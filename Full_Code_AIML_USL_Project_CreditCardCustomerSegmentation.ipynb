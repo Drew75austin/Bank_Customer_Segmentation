{
  "cells": [
    {
      "cell_type": "markdown",
      "source": [
        "## Problem Statement"
      ],
      "metadata": {
        "id": "Q1WSYF2n2rym"
      }
    },
    {
      "cell_type": "markdown",
      "metadata": {
        "id": "BKkaX7G8vthR"
      },
      "source": [
        "### Context\n",
        "\n",
        "\n",
        "AllLife Bank wants to focus on its credit card customer base in the next financial year. They have been advised by their marketing research team, that the penetration in the market can be improved. Based on this input, the Marketing team proposes to run personalized campaigns to target new customers as well as upsell to existing customers. Another insight from the market research was that the customers perceive the support services of the back poorly. Based on this, the Operations team wants to upgrade the service delivery model, to ensure that customer queries are resolved faster. Head of Marketing and Head of Delivery both decide to reach out to the Data Science team for help\n",
        "\n",
        "\n",
        "### Objective\n",
        "\n",
        "To identify different segments in the existing customer, based on their spending patterns as well as past interaction with the bank, using clustering algorithms, and provide recommendations to the bank on how to better market to and service these customers.\n",
        "\n",
        "\n",
        "###  Data Description\n",
        "\n",
        "The data provided is of various customers of a bank and their financial attributes like credit limit, the total number of credit cards the customer has, and different channels through which customers have contacted the bank for any queries (including visiting the bank, online and through a call center).\n",
        "\n",
        "**Data Dictionary**\n",
        "\n",
        "- Sl_No: Primary key of the records\n",
        "- Customer Key: Customer identification number\n",
        "- Average Credit Limit: Average credit limit of each customer for all credit cards\n",
        "- Total credit cards: Total number of credit cards possessed by the customer\n",
        "- Total visits bank: Total number of Visits that customer made (yearly) personally to the bank\n",
        "- Total visits online: Total number of visits or online logins made by the customer (yearly)\n",
        "- Total calls made: Total number of calls made by the customer to the bank or its customer service department (yearly)"
      ]
    },
    {
      "cell_type": "markdown",
      "metadata": {
        "id": "GLmC-0-fDPyI"
      },
      "source": [
        "## Importing necessary libraries and data"
      ]
    },
    {
      "cell_type": "code",
      "execution_count": null,
      "metadata": {
        "id": "zeF8YaNKDPyK"
      },
      "outputs": [],
      "source": []
    },
    {
      "cell_type": "markdown",
      "metadata": {
        "id": "UvpMDcaaMKtI"
      },
      "source": [
        "## Data Overview"
      ]
    },
    {
      "cell_type": "markdown",
      "source": [
        "- Observations\n",
        "- Sanity checks"
      ],
      "metadata": {
        "id": "2iFp66Fz244L"
      }
    },
    {
      "cell_type": "code",
      "execution_count": null,
      "metadata": {
        "id": "01hJQ7EfMKtK"
      },
      "outputs": [],
      "source": []
    },
    {
      "cell_type": "markdown",
      "metadata": {
        "id": "__7ciGcIDPyk"
      },
      "source": [
        "## Exploratory Data Analysis (EDA)"
      ]
    },
    {
      "cell_type": "markdown",
      "source": [
        "- EDA is an important part of any project involving data.\n",
        "- It is important to investigate and understand the data better before building a model with it.\n",
        "- A few questions have been mentioned below which will help you approach the analysis in the right manner and generate insights from the data.\n",
        "- A thorough analysis of the data, in addition to the questions mentioned below, should be done."
      ],
      "metadata": {
        "id": "YPSgA56R2zlc"
      }
    },
    {
      "cell_type": "markdown",
      "source": [
        "### Questions"
      ],
      "metadata": {
        "id": "9kFFI1MkF68r"
      }
    },
    {
      "cell_type": "markdown",
      "source": [
        "1. How is the distrubution of average credit limit of customer?\n",
        "2. What percenatage of the customers have never made a service-related call to the bank?\n",
        "3. What percentage of customers have never logged in to the online portal?\n",
        "4. How many customers have never visited bank?\n",
        "3. How are the different variables correlated with each other?"
      ],
      "metadata": {
        "id": "sJEiCAKn2u9K"
      }
    },
    {
      "cell_type": "code",
      "execution_count": null,
      "metadata": {
        "id": "cN1lyueHttwW"
      },
      "outputs": [],
      "source": []
    },
    {
      "cell_type": "markdown",
      "source": [
        "## Data Preprocessing"
      ],
      "metadata": {
        "id": "ahR1hVIHOxxU"
      }
    },
    {
      "cell_type": "markdown",
      "metadata": {
        "id": "pVn5toJ7MKte"
      },
      "source": [
        "\n",
        "\n",
        "- Duplicate value check\n",
        "- Missing value treatment\n",
        "- Outlier check\n",
        "- Feature engineering (if needed)\n",
        "- Any other preprocessing steps (if needed)"
      ]
    },
    {
      "cell_type": "code",
      "execution_count": null,
      "metadata": {
        "id": "zUi6E9EUMKth"
      },
      "outputs": [],
      "source": []
    },
    {
      "cell_type": "markdown",
      "metadata": {
        "id": "KNzFis7eEaXj"
      },
      "source": [
        "## EDA"
      ]
    },
    {
      "cell_type": "markdown",
      "source": [
        "- It is a good idea to explore the data once again after manipulating it."
      ],
      "metadata": {
        "id": "VEBCM-yQ28eK"
      }
    },
    {
      "cell_type": "code",
      "execution_count": null,
      "metadata": {
        "id": "4lcDTGi9EZ1M"
      },
      "outputs": [],
      "source": []
    },
    {
      "cell_type": "markdown",
      "metadata": {
        "id": "g65eWNkmUw55"
      },
      "source": [
        "## K-means Clustering"
      ]
    },
    {
      "cell_type": "code",
      "execution_count": null,
      "metadata": {
        "id": "ZNRiMg0wMKth"
      },
      "outputs": [],
      "source": []
    },
    {
      "cell_type": "markdown",
      "metadata": {
        "id": "083oRHCMUw55"
      },
      "source": [
        "## Hierarchical Clustering"
      ]
    },
    {
      "cell_type": "code",
      "execution_count": null,
      "metadata": {
        "id": "k3e6gzxdMKti"
      },
      "outputs": [],
      "source": []
    },
    {
      "cell_type": "markdown",
      "metadata": {
        "id": "y-jOhqZqvtht"
      },
      "source": [
        "## Cluster Profiling and Comparison"
      ]
    },
    {
      "cell_type": "code",
      "source": [],
      "metadata": {
        "id": "abkm2M8iFEMj"
      },
      "execution_count": null,
      "outputs": []
    },
    {
      "cell_type": "markdown",
      "metadata": {
        "id": "a9GxSQf-qH8e"
      },
      "source": [
        "## K-means vs Hierarchical Clustering"
      ]
    },
    {
      "cell_type": "markdown",
      "metadata": {
        "id": "naX-iXItqH-b"
      },
      "source": [
        "You compare several things, like:\n",
        "- Which clustering technique took less time for execution?\n",
        "- Which clustering technique gave you more distinct clusters, or are they the same?\n",
        "- How many observations are there in the similar clusters of both algorithms?\n",
        "- How many clusters are obtained as the appropriate number of clusters from both algorithms?\n",
        "\n",
        "You can also mention any differences or similarities you obtained in the cluster profiles from both the clustering techniques."
      ]
    },
    {
      "cell_type": "code",
      "source": [],
      "metadata": {
        "id": "wyUVECGq2_kz"
      },
      "execution_count": null,
      "outputs": []
    },
    {
      "cell_type": "markdown",
      "metadata": {
        "id": "2BkZh6eHluZK"
      },
      "source": [
        "## Actionable Insights and Recommendations"
      ]
    },
    {
      "cell_type": "markdown",
      "source": [
        "- \n"
      ],
      "metadata": {
        "id": "KiNojAJ-3DrR"
      }
    },
    {
      "cell_type": "markdown",
      "source": [
        "___"
      ],
      "metadata": {
        "id": "bRdSTnqU3En6"
      }
    }
  ],
  "metadata": {
    "colab": {
      "provenance": [],
      "collapsed_sections": [
        "Q1WSYF2n2rym",
        "GLmC-0-fDPyI",
        "UvpMDcaaMKtI",
        "__7ciGcIDPyk",
        "9kFFI1MkF68r",
        "ahR1hVIHOxxU",
        "KNzFis7eEaXj",
        "g65eWNkmUw55",
        "083oRHCMUw55",
        "y-jOhqZqvtht",
        "a9GxSQf-qH8e",
        "2BkZh6eHluZK"
      ]
    },
    "hide_input": false,
    "kernelspec": {
      "display_name": "Python 3 (ipykernel)",
      "language": "python",
      "name": "python3"
    },
    "language_info": {
      "codemirror_mode": {
        "name": "ipython",
        "version": 3
      },
      "file_extension": ".py",
      "mimetype": "text/x-python",
      "name": "python",
      "nbconvert_exporter": "python",
      "pygments_lexer": "ipython3",
      "version": "3.8.12"
    },
    "latex_envs": {
      "LaTeX_envs_menu_present": true,
      "autoclose": false,
      "autocomplete": true,
      "bibliofile": "biblio.bib",
      "cite_by": "apalike",
      "current_citInitial": 1,
      "eqLabelWithNumbers": true,
      "eqNumInitial": 1,
      "hotkeys": {
        "equation": "Ctrl-E",
        "itemize": "Ctrl-I"
      },
      "labels_anchors": false,
      "latex_user_defs": false,
      "report_style_numbering": false,
      "user_envs_cfg": false
    },
    "varInspector": {
      "cols": {
        "lenName": 16,
        "lenType": 16,
        "lenVar": 40
      },
      "kernels_config": {
        "python": {
          "delete_cmd_postfix": "",
          "delete_cmd_prefix": "del ",
          "library": "var_list.py",
          "varRefreshCmd": "print(var_dic_list())"
        },
        "r": {
          "delete_cmd_postfix": ") ",
          "delete_cmd_prefix": "rm(",
          "library": "var_list.r",
          "varRefreshCmd": "cat(var_dic_list()) "
        }
      },
      "types_to_exclude": [
        "module",
        "function",
        "builtin_function_or_method",
        "instance",
        "_Feature"
      ],
      "window_display": false
    }
  },
  "nbformat": 4,
  "nbformat_minor": 0
}